{
 "cells": [
  {
   "cell_type": "code",
   "execution_count": 1,
   "metadata": {},
   "outputs": [],
   "source": [
    "#Tarvittavien kirjastojen tuominen.\n",
    "import numpy as np\n",
    "import pandas as pd\n",
    "import matplotlib.pyplot as plt\n",
    "import seaborn as sns\n",
    "%matplotlib inline"
   ]
  },
  {
   "cell_type": "code",
   "execution_count": 2,
   "metadata": {},
   "outputs": [
    {
     "data": {
      "text/html": [
       "<div>\n",
       "<style scoped>\n",
       "    .dataframe tbody tr th:only-of-type {\n",
       "        vertical-align: middle;\n",
       "    }\n",
       "\n",
       "    .dataframe tbody tr th {\n",
       "        vertical-align: top;\n",
       "    }\n",
       "\n",
       "    .dataframe thead th {\n",
       "        text-align: right;\n",
       "    }\n",
       "</style>\n",
       "<table border=\"1\" class=\"dataframe\">\n",
       "  <thead>\n",
       "    <tr style=\"text-align: right;\">\n",
       "      <th></th>\n",
       "      <th>nro</th>\n",
       "      <th>sukupuoli</th>\n",
       "      <th>ikä</th>\n",
       "      <th>perhe</th>\n",
       "      <th>koulutus</th>\n",
       "      <th>palvelusvuodet</th>\n",
       "      <th>palkka</th>\n",
       "      <th>tyytyväisyys johtoon</th>\n",
       "      <th>tyytyväisyys työtovereihin</th>\n",
       "      <th>tyytyväisyys työympäristöön</th>\n",
       "      <th>tyytyväisyys palkkaan</th>\n",
       "      <th>tyytyväisyys työtehtäviin</th>\n",
       "      <th>työterveyshuolto</th>\n",
       "      <th>lomaosake</th>\n",
       "      <th>kuntosali</th>\n",
       "      <th>hieroja</th>\n",
       "    </tr>\n",
       "  </thead>\n",
       "  <tbody>\n",
       "    <tr>\n",
       "      <th>77</th>\n",
       "      <td>78</td>\n",
       "      <td>1</td>\n",
       "      <td>22</td>\n",
       "      <td>1</td>\n",
       "      <td>3.0</td>\n",
       "      <td>0.0</td>\n",
       "      <td>1598</td>\n",
       "      <td>4</td>\n",
       "      <td>4.0</td>\n",
       "      <td>4</td>\n",
       "      <td>3</td>\n",
       "      <td>4</td>\n",
       "      <td>NaN</td>\n",
       "      <td>1.0</td>\n",
       "      <td>1.0</td>\n",
       "      <td>NaN</td>\n",
       "    </tr>\n",
       "    <tr>\n",
       "      <th>78</th>\n",
       "      <td>79</td>\n",
       "      <td>1</td>\n",
       "      <td>33</td>\n",
       "      <td>1</td>\n",
       "      <td>1.0</td>\n",
       "      <td>2.0</td>\n",
       "      <td>1638</td>\n",
       "      <td>1</td>\n",
       "      <td>3.0</td>\n",
       "      <td>2</td>\n",
       "      <td>1</td>\n",
       "      <td>2</td>\n",
       "      <td>1.0</td>\n",
       "      <td>NaN</td>\n",
       "      <td>NaN</td>\n",
       "      <td>NaN</td>\n",
       "    </tr>\n",
       "    <tr>\n",
       "      <th>79</th>\n",
       "      <td>80</td>\n",
       "      <td>1</td>\n",
       "      <td>27</td>\n",
       "      <td>1</td>\n",
       "      <td>2.0</td>\n",
       "      <td>7.0</td>\n",
       "      <td>2612</td>\n",
       "      <td>3</td>\n",
       "      <td>4.0</td>\n",
       "      <td>3</td>\n",
       "      <td>3</td>\n",
       "      <td>3</td>\n",
       "      <td>1.0</td>\n",
       "      <td>NaN</td>\n",
       "      <td>1.0</td>\n",
       "      <td>NaN</td>\n",
       "    </tr>\n",
       "    <tr>\n",
       "      <th>80</th>\n",
       "      <td>81</td>\n",
       "      <td>1</td>\n",
       "      <td>35</td>\n",
       "      <td>2</td>\n",
       "      <td>2.0</td>\n",
       "      <td>16.0</td>\n",
       "      <td>2808</td>\n",
       "      <td>3</td>\n",
       "      <td>4.0</td>\n",
       "      <td>3</td>\n",
       "      <td>3</td>\n",
       "      <td>3</td>\n",
       "      <td>NaN</td>\n",
       "      <td>NaN</td>\n",
       "      <td>NaN</td>\n",
       "      <td>NaN</td>\n",
       "    </tr>\n",
       "    <tr>\n",
       "      <th>81</th>\n",
       "      <td>82</td>\n",
       "      <td>2</td>\n",
       "      <td>35</td>\n",
       "      <td>2</td>\n",
       "      <td>3.0</td>\n",
       "      <td>15.0</td>\n",
       "      <td>2183</td>\n",
       "      <td>3</td>\n",
       "      <td>4.0</td>\n",
       "      <td>4</td>\n",
       "      <td>3</td>\n",
       "      <td>4</td>\n",
       "      <td>1.0</td>\n",
       "      <td>NaN</td>\n",
       "      <td>NaN</td>\n",
       "      <td>NaN</td>\n",
       "    </tr>\n",
       "  </tbody>\n",
       "</table>\n",
       "</div>"
      ],
      "text/plain": [
       "    nro  sukupuoli  ikä  perhe  koulutus  palvelusvuodet  palkka  \\\n",
       "77   78          1   22      1       3.0             0.0    1598   \n",
       "78   79          1   33      1       1.0             2.0    1638   \n",
       "79   80          1   27      1       2.0             7.0    2612   \n",
       "80   81          1   35      2       2.0            16.0    2808   \n",
       "81   82          2   35      2       3.0            15.0    2183   \n",
       "\n",
       "    tyytyväisyys johtoon  tyytyväisyys työtovereihin  \\\n",
       "77                     4                         4.0   \n",
       "78                     1                         3.0   \n",
       "79                     3                         4.0   \n",
       "80                     3                         4.0   \n",
       "81                     3                         4.0   \n",
       "\n",
       "    tyytyväisyys työympäristöön  tyytyväisyys palkkaan  \\\n",
       "77                            4                      3   \n",
       "78                            2                      1   \n",
       "79                            3                      3   \n",
       "80                            3                      3   \n",
       "81                            4                      3   \n",
       "\n",
       "    tyytyväisyys työtehtäviin  työterveyshuolto  lomaosake  kuntosali  hieroja  \n",
       "77                          4               NaN        1.0        1.0      NaN  \n",
       "78                          2               1.0        NaN        NaN      NaN  \n",
       "79                          3               1.0        NaN        1.0      NaN  \n",
       "80                          3               NaN        NaN        NaN      NaN  \n",
       "81                          4               1.0        NaN        NaN      NaN  "
      ]
     },
     "execution_count": 2,
     "metadata": {},
     "output_type": "execute_result"
    }
   ],
   "source": [
    "#Datan avaaminen nettisivulta.\n",
    "df = pd.read_csv('http://taanila.fi/data1.csv', delimiter = ';')\n",
    "df.tail(5)\n"
   ]
  },
  {
   "cell_type": "code",
   "execution_count": 3,
   "metadata": {},
   "outputs": [],
   "source": [
    "#Muuttujien tekstimuotoisten arvojen tallentaminen.\n",
    "koulutus = [\"peruskoulu\", \"2. aste\", \"korkeakoulu\", \"ylempi korkeakoulu\"]\n",
    "tyytyväisyys = [\"tyytymätön\", \"jokseenkin tyytyväinen\", \"tyytyväinen\", \"todella tyytyväinen\"]\n",
    "sukupuoli = [\"mies\", \"nainen\"]\n",
    "perhe = [\"perheetön\", \"perheellinen\"]"
   ]
  },
  {
   "cell_type": "code",
   "execution_count": 4,
   "metadata": {},
   "outputs": [],
   "source": [
    "#N-arvot seuraavaa taulukointia varten.\n",
    "dfn=df.groupby('sukupuoli')['koulutus'].count()"
   ]
  },
  {
   "cell_type": "code",
   "execution_count": 5,
   "metadata": {},
   "outputs": [
    {
     "data": {
      "text/html": [
       "<style  type=\"text/css\" >\n",
       "</style>  \n",
       "<table id=\"T_dc1392f4_4fa8_11e9_a0a2_d4619d12f1aa\" > \n",
       "<thead>    <tr> \n",
       "        <th class=\"blank level0\" ></th> \n",
       "        <th class=\"col_heading level0 col0\" >Mies (n=62)</th> \n",
       "        <th class=\"col_heading level0 col1\" >Nainen (n=19)</th> \n",
       "    </tr></thead> \n",
       "<tbody>    <tr> \n",
       "        <th id=\"T_dc1392f4_4fa8_11e9_a0a2_d4619d12f1aalevel0_row0\" class=\"row_heading level0 row0\" >peruskoulu</th> \n",
       "        <td id=\"T_dc1392f4_4fa8_11e9_a0a2_d4619d12f1aarow0_col0\" class=\"data row0 col0\" >35%</td> \n",
       "        <td id=\"T_dc1392f4_4fa8_11e9_a0a2_d4619d12f1aarow0_col1\" class=\"data row0 col1\" >26%</td> \n",
       "    </tr>    <tr> \n",
       "        <th id=\"T_dc1392f4_4fa8_11e9_a0a2_d4619d12f1aalevel0_row1\" class=\"row_heading level0 row1\" >2. aste</th> \n",
       "        <td id=\"T_dc1392f4_4fa8_11e9_a0a2_d4619d12f1aarow1_col0\" class=\"data row1 col0\" >37%</td> \n",
       "        <td id=\"T_dc1392f4_4fa8_11e9_a0a2_d4619d12f1aarow1_col1\" class=\"data row1 col1\" >37%</td> \n",
       "    </tr>    <tr> \n",
       "        <th id=\"T_dc1392f4_4fa8_11e9_a0a2_d4619d12f1aalevel0_row2\" class=\"row_heading level0 row2\" >korkeakoulu</th> \n",
       "        <td id=\"T_dc1392f4_4fa8_11e9_a0a2_d4619d12f1aarow2_col0\" class=\"data row2 col0\" >24%</td> \n",
       "        <td id=\"T_dc1392f4_4fa8_11e9_a0a2_d4619d12f1aarow2_col1\" class=\"data row2 col1\" >37%</td> \n",
       "    </tr>    <tr> \n",
       "        <th id=\"T_dc1392f4_4fa8_11e9_a0a2_d4619d12f1aalevel0_row3\" class=\"row_heading level0 row3\" >ylempi korkeakoulu</th> \n",
       "        <td id=\"T_dc1392f4_4fa8_11e9_a0a2_d4619d12f1aarow3_col0\" class=\"data row3 col0\" >3%</td> \n",
       "        <td id=\"T_dc1392f4_4fa8_11e9_a0a2_d4619d12f1aarow3_col1\" class=\"data row3 col1\" >0%</td> \n",
       "    </tr></tbody> \n",
       "</table> "
      ],
      "text/plain": [
       "<pandas.io.formats.style.Styler at 0x1a1a668e48>"
      ]
     },
     "execution_count": 5,
     "metadata": {},
     "output_type": "execute_result"
    }
   ],
   "source": [
    "#Ristiintaulukointi miesten ja naisten koulutuksista crosstabin avulla.\n",
    "df1 = pd.crosstab(df[\"koulutus\"],df[\"sukupuoli\"], normalize = \"columns\")\n",
    "df1.index = koulutus\n",
    "df1.columns.name = \"\"\n",
    "mies='Mies (n='+str(dfn[1])+')'\n",
    "nainen='Nainen (n='+str(dfn[2])+')'\n",
    "df1.columns = [mies, nainen]\n",
    "df1.style.format('{:.0%}')"
   ]
  },
  {
   "cell_type": "code",
   "execution_count": 6,
   "metadata": {},
   "outputs": [
    {
     "data": {
      "text/plain": [
       "[Text(0, 0, '0%'),\n",
       " Text(0, 0, '5%'),\n",
       " Text(0, 0, '10%'),\n",
       " Text(0, 0, '15%'),\n",
       " Text(0, 0, '20%'),\n",
       " Text(0, 0, '25%'),\n",
       " Text(0, 0, '30%'),\n",
       " Text(0, 0, '35%'),\n",
       " Text(0, 0, '40%')]"
      ]
     },
     "execution_count": 6,
     "metadata": {},
     "output_type": "execute_result"
    },
    {
     "data": {
      "image/png": "[encoded data removed]",
      "text/plain": [
       "<Figure size 432x288 with 1 Axes>"
      ]
     },
     "metadata": {
      "needs_background": "light"
     },
     "output_type": "display_data"
    }
   ],
   "source": [
    "#Pylväskaavio edellisestä. Lisäksi muokkasin pylväät selitteiden mukaisesti oikeaan järjestykseen.\n",
    "ax=df1.plot.barh(color=[\"black\", \"grey\"], edgecolor = \"white\")\n",
    "plt.xlabel(\"Prosenttia sukupuolesta\")\n",
    "handles, labels = ax.get_legend_handles_labels()\n",
    "ax.legend(reversed(handles), reversed(labels), loc='best')\n",
    "vals = ax.get_xticks()\n",
    "ax.set_xticklabels(['{:.0%}'.format(x) for x in vals])"
   ]
  },
  {
   "cell_type": "code",
   "execution_count": 7,
   "metadata": {},
   "outputs": [
    {
     "data": {
      "text/plain": [
       "Text(0.5, 0, 'Käyttäjien lukumäärä')"
      ]
     },
     "execution_count": 7,
     "metadata": {},
     "output_type": "execute_result"
    },
    {
     "data": {
      "image/png": "[encoded data removed]",
      "text/plain": [
       "<Figure size 432x288 with 1 Axes>"
      ]
     },
     "metadata": {
      "needs_background": "light"
     },
     "output_type": "display_data"
    }
   ],
   "source": [
    "#Monivalintojen lukumäärien laskeminen count-funktiolla sukupuolten mukaisesti.\n",
    "df2 = df.groupby (\"sukupuoli\")[\"työterveyshuolto\", \"lomaosake\", \"kuntosali\", \"hieroja\"].count()\n",
    "df2.index = sukupuoli\n",
    "df2.plot.barh(color=[\"silver\", \"lightgreen\", \"pink\", \"lightblue\"], edgecolor = \"white\")\n",
    "plt.xlabel(\"Käyttäjien lukumäärä\")"
   ]
  },
  {
   "cell_type": "code",
   "execution_count": 8,
   "metadata": {},
   "outputs": [
    {
     "data": {
      "text/plain": [
       "Text(0, 0.5, 'Lukumäärä')"
      ]
     },
     "execution_count": 8,
     "metadata": {},
     "output_type": "execute_result"
    },
    {
     "data": {
      "image/png": "[encoded data removed]",
      "text/plain": [
       "<Figure size 432x288 with 1 Axes>"
      ]
     },
     "metadata": {
      "needs_background": "light"
     },
     "output_type": "display_data"
    }
   ],
   "source": [
    "#Palkkojen luokiteltu jakauma bins -toiminnolla ja histogrammi kyseisestä luokitellusta jakaumasta.\n",
    "bins = [1000, 1500, 2500, 3500, 4500, 5500, 6500, 7500]\n",
    "df[\"palkkaluokka\"] = pd.cut(df[\"palkka\"], bins = 1000)\n",
    "df3 = pd.crosstab(df[\"palkkaluokka\"], \"n\")\n",
    "df3.columns.name = \"\"\n",
    "df3\n",
    "df[\"palkka\"].plot.hist(bins, color=\"grey\", edgecolor = \"white\")\n",
    "plt.xlabel(\"Palkan suuruus\")\n",
    "plt.ylabel(\"Lukumäärä\")"
   ]
  },
  {
   "cell_type": "code",
   "execution_count": 9,
   "metadata": {},
   "outputs": [
    {
     "data": {
      "text/html": [
       "<style  type=\"text/css\" >\n",
       "</style>  \n",
       "<table id=\"T_dc9e8558_4fa8_11e9_a0a2_d4619d12f1aa\" > \n",
       "<thead>    <tr> \n",
       "        <th class=\"blank level0\" ></th> \n",
       "        <th class=\"col_heading level0 col0\" >palkka</th> \n",
       "    </tr></thead> \n",
       "<tbody>    <tr> \n",
       "        <th id=\"T_dc9e8558_4fa8_11e9_a0a2_d4619d12f1aalevel0_row0\" class=\"row_heading level0 row0\" >mies</th> \n",
       "        <td id=\"T_dc9e8558_4fa8_11e9_a0a2_d4619d12f1aarow0_col0\" class=\"data row0 col0\" >2664</td> \n",
       "    </tr>    <tr> \n",
       "        <th id=\"T_dc9e8558_4fa8_11e9_a0a2_d4619d12f1aalevel0_row1\" class=\"row_heading level0 row1\" >nainen</th> \n",
       "        <td id=\"T_dc9e8558_4fa8_11e9_a0a2_d4619d12f1aarow1_col0\" class=\"data row1 col0\" >2233</td> \n",
       "    </tr></tbody> \n",
       "</table> "
      ],
      "text/plain": [
       "<pandas.io.formats.style.Styler at 0x1a1a709cc0>"
      ]
     },
     "execution_count": 9,
     "metadata": {},
     "output_type": "execute_result"
    }
   ],
   "source": [
    "#Naisten ja miesten keskiarvopalkka.\n",
    "df5 = df.pivot_table(values = \"palkka\", index = \"sukupuoli\")\n",
    "df5.index = sukupuoli\n",
    "df5.style.format('{:.0f}')"
   ]
  },
  {
   "cell_type": "code",
   "execution_count": 40,
   "metadata": {},
   "outputs": [
    {
     "data": {
      "text/plain": [
       "Text(0.5, 0, 'Palkkakeskiarvo sukupuolen mukaisesti')"
      ]
     },
     "execution_count": 40,
     "metadata": {},
     "output_type": "execute_result"
    },
    {
     "data": {
      "image/png": "[encoded data removed]",
      "text/plain": [
       "<Figure size 432x288 with 1 Axes>"
      ]
     },
     "metadata": {
      "needs_background": "light"
     },
     "output_type": "display_data"
    }
   ],
   "source": [
    "#Naisten ja miesten keskiarvopalkka taulukkomuodossa.\n",
    "ax = df.pivot_table(values=\"palkka\", index=\"sukupuoli\").sort_values(\"palkka\").plot.barh(legend=False, color=[\"C9\"], edgecolor = \"black\")\n",
    "ax.set_xlabel('Palkkakeskiarvo sukupuolen mukaisesti')"
   ]
  },
  {
   "cell_type": "code",
   "execution_count": 11,
   "metadata": {},
   "outputs": [
    {
     "data": {
      "text/html": [
       "<style  type=\"text/css\" >\n",
       "</style>  \n",
       "<table id=\"T_dcbf90e0_4fa8_11e9_a0a2_d4619d12f1aa\" > \n",
       "<thead>    <tr> \n",
       "        <th class=\"blank level0\" ></th> \n",
       "        <th class=\"col_heading level0 col0\" >palkka</th> \n",
       "    </tr></thead> \n",
       "<tbody>    <tr> \n",
       "        <th id=\"T_dcbf90e0_4fa8_11e9_a0a2_d4619d12f1aalevel0_row0\" class=\"row_heading level0 row0\" >peruskoulu</th> \n",
       "        <td id=\"T_dcbf90e0_4fa8_11e9_a0a2_d4619d12f1aarow0_col0\" class=\"data row0 col0\" >2310</td> \n",
       "    </tr>    <tr> \n",
       "        <th id=\"T_dcbf90e0_4fa8_11e9_a0a2_d4619d12f1aalevel0_row1\" class=\"row_heading level0 row1\" >2. aste</th> \n",
       "        <td id=\"T_dcbf90e0_4fa8_11e9_a0a2_d4619d12f1aarow1_col0\" class=\"data row1 col0\" >2403</td> \n",
       "    </tr>    <tr> \n",
       "        <th id=\"T_dcbf90e0_4fa8_11e9_a0a2_d4619d12f1aalevel0_row2\" class=\"row_heading level0 row2\" >korkeakoulu</th> \n",
       "        <td id=\"T_dcbf90e0_4fa8_11e9_a0a2_d4619d12f1aarow2_col0\" class=\"data row2 col0\" >2887</td> \n",
       "    </tr>    <tr> \n",
       "        <th id=\"T_dcbf90e0_4fa8_11e9_a0a2_d4619d12f1aalevel0_row3\" class=\"row_heading level0 row3\" >ylempi korkeakoulu</th> \n",
       "        <td id=\"T_dcbf90e0_4fa8_11e9_a0a2_d4619d12f1aarow3_col0\" class=\"data row3 col0\" >5147</td> \n",
       "    </tr></tbody> \n",
       "</table> "
      ],
      "text/plain": [
       "<pandas.io.formats.style.Styler at 0x1a1b8ecdd8>"
      ]
     },
     "execution_count": 11,
     "metadata": {},
     "output_type": "execute_result"
    }
   ],
   "source": [
    "#Palkkakeskiarvot koulutuksen mukaisesti.\n",
    "df4 = df.pivot_table(values = 'palkka', index = 'koulutus')\n",
    "df4.index = koulutus\n",
    "df4.style.format('{:.0f}')"
   ]
  },
  {
   "cell_type": "code",
   "execution_count": 53,
   "metadata": {},
   "outputs": [
    {
     "data": {
      "text/plain": [
       "Text(0.5, 0, 'Palkkakeskiarvo sukupuolen mukaisesti')"
      ]
     },
     "execution_count": 53,
     "metadata": {},
     "output_type": "execute_result"
    },
    {
     "data": {
      "image/png": "[encoded data removed]",
      "text/plain": [
       "<Figure size 432x288 with 1 Axes>"
      ]
     },
     "metadata": {
      "needs_background": "light"
     },
     "output_type": "display_data"
    }
   ],
   "source": [
    "#Palkkakeskiarvot koulutuksen mukaan taulukkomuodossa.\n",
    "ax = df.pivot_table(values=\"palkka\", index=\"koulutus\").sort_values(\"palkka\").plot.barh(legend=False, color=[\"C3\"], edgecolor = \"black\")\n",
    "ax.set_xlabel('Palkkakeskiarvo sukupuolen mukaisesti')"
   ]
  },
  {
   "cell_type": "code",
   "execution_count": 13,
   "metadata": {},
   "outputs": [
    {
     "data": {
      "text/html": [
       "<style  type=\"text/css\" >\n",
       "</style>  \n",
       "<table id=\"T_dcee9228_4fa8_11e9_a0a2_d4619d12f1aa\" > \n",
       "<thead>    <tr> \n",
       "        <th class=\"blank level0\" ></th> \n",
       "        <th class=\"col_heading level0 col0\" >perheetön</th> \n",
       "        <th class=\"col_heading level0 col1\" >perheellinen</th> \n",
       "    </tr></thead> \n",
       "<tbody>    <tr> \n",
       "        <th id=\"T_dcee9228_4fa8_11e9_a0a2_d4619d12f1aalevel0_row0\" class=\"row_heading level0 row0\" >peruskoulu</th> \n",
       "        <td id=\"T_dcee9228_4fa8_11e9_a0a2_d4619d12f1aarow0_col0\" class=\"data row0 col0\" >2199</td> \n",
       "        <td id=\"T_dcee9228_4fa8_11e9_a0a2_d4619d12f1aarow0_col1\" class=\"data row0 col1\" >2376</td> \n",
       "    </tr>    <tr> \n",
       "        <th id=\"T_dcee9228_4fa8_11e9_a0a2_d4619d12f1aalevel0_row1\" class=\"row_heading level0 row1\" >2. aste</th> \n",
       "        <td id=\"T_dcee9228_4fa8_11e9_a0a2_d4619d12f1aarow1_col0\" class=\"data row1 col0\" >2057</td> \n",
       "        <td id=\"T_dcee9228_4fa8_11e9_a0a2_d4619d12f1aarow1_col1\" class=\"data row1 col1\" >2668</td> \n",
       "    </tr>    <tr> \n",
       "        <th id=\"T_dcee9228_4fa8_11e9_a0a2_d4619d12f1aalevel0_row2\" class=\"row_heading level0 row2\" >korkeakoulu</th> \n",
       "        <td id=\"T_dcee9228_4fa8_11e9_a0a2_d4619d12f1aarow2_col0\" class=\"data row2 col0\" >2587</td> \n",
       "        <td id=\"T_dcee9228_4fa8_11e9_a0a2_d4619d12f1aarow2_col1\" class=\"data row2 col1\" >3000</td> \n",
       "    </tr>    <tr> \n",
       "        <th id=\"T_dcee9228_4fa8_11e9_a0a2_d4619d12f1aalevel0_row3\" class=\"row_heading level0 row3\" >ylempi korkeakoulu</th> \n",
       "        <td id=\"T_dcee9228_4fa8_11e9_a0a2_d4619d12f1aarow3_col0\" class=\"data row3 col0\" >5225</td> \n",
       "        <td id=\"T_dcee9228_4fa8_11e9_a0a2_d4619d12f1aarow3_col1\" class=\"data row3 col1\" >5069</td> \n",
       "    </tr></tbody> \n",
       "</table> "
      ],
      "text/plain": [
       "<pandas.io.formats.style.Styler at 0x1a1b9ba908>"
      ]
     },
     "execution_count": 13,
     "metadata": {},
     "output_type": "execute_result"
    }
   ],
   "source": [
    "#Palkkakeskiarvot koulutuksen ja perheen mukaisesti.\n",
    "df6 = df.pivot_table(values = 'palkka', index= 'koulutus', columns='perhe')\n",
    "df6.index = koulutus\n",
    "df6.columns = perhe\n",
    "df6.style.format('{:.0f}')"
   ]
  },
  {
   "cell_type": "code",
   "execution_count": 57,
   "metadata": {},
   "outputs": [
    {
     "data": {
      "text/plain": [
       "Text(0.5, 0, 'Palkka')"
      ]
     },
     "execution_count": 57,
     "metadata": {},
     "output_type": "execute_result"
    },
    {
     "data": {
      "image/png": "[encoded data removed]",
      "text/plain": [
       "<Figure size 432x288 with 1 Axes>"
      ]
     },
     "metadata": {
      "needs_background": "light"
     },
     "output_type": "display_data"
    }
   ],
   "source": [
    "#Edellinen taulukkomuodossa.\n",
    "df.pivot_table(values = \"palkka\", index = \"koulutus\", columns = \"perhe\").plot(kind= 'barh', color=[\"C1\", \"C7\"], edgecolor = \"black\")\n",
    "plt.ylabel(\"Koulutus\")\n",
    "plt.xlabel(\"Palkka\")"
   ]
  },
  {
   "cell_type": "code",
   "execution_count": 87,
   "metadata": {},
   "outputs": [
    {
     "data": {
      "image/png": "[encoded data removed]",
      "text/plain": [
       "<Figure size 432x288 with 1 Axes>"
      ]
     },
     "metadata": {
      "needs_background": "light"
     },
     "output_type": "display_data"
    }
   ],
   "source": [
    "#Tyytyväisyys palkkaan koulutuksen mukaan.\n",
    "df7 = df.pivot_table(values = \"tyytyväisyys palkkaan\", index= \"koulutus\").plot(kind= 'barh', color=[\"C2\"], edgecolor = \"black\")"
   ]
  },
  {
   "cell_type": "code",
   "execution_count": 83,
   "metadata": {},
   "outputs": [
    {
     "data": {
      "image/png": "[encoded data removed]",
      "text/plain": [
       "<Figure size 432x288 with 1 Axes>"
      ]
     },
     "metadata": {
      "needs_background": "light"
     },
     "output_type": "display_data"
    }
   ],
   "source": [
    "#Tyytyväisyys palkkaan iän mukaisesti.\n",
    "df8 = df.pivot_table(values = \"tyytyväisyys palkkaan\", index= \"ikä\").plot(kind= 'barh', color=[\"C1\", \"C7\"], edgecolor = \"black\")"
   ]
  },
  {
   "cell_type": "code",
   "execution_count": 55,
   "metadata": {},
   "outputs": [
    {
     "data": {
      "text/plain": [
       "<matplotlib.axes._subplots.AxesSubplot at 0x1a1d7be320>"
      ]
     },
     "execution_count": 55,
     "metadata": {},
     "output_type": "execute_result"
    },
    {
     "data": {
      "image/png": "[encoded data removed]",
      "text/plain": [
       "<Figure size 432x288 with 1 Axes>"
      ]
     },
     "metadata": {
      "needs_background": "light"
     },
     "output_type": "display_data"
    }
   ],
   "source": [
    "#Miesten tyytyväisyys työtehtäviin iän mukaisesti.\n",
    "df[df['sukupuoli'] == 1].pivot_table(values = \"tyytyväisyys työtehtäviin\", index = \"ikä\").sort_values(\"tyytyväisyys työtehtäviin\").plot(kind='barh', color=[\"C5\"], edgecolor = \"black\")"
   ]
  },
  {
   "cell_type": "code",
   "execution_count": 58,
   "metadata": {},
   "outputs": [
    {
     "data": {
      "text/plain": [
       "<matplotlib.axes._subplots.AxesSubplot at 0x1a1dad0588>"
      ]
     },
     "execution_count": 58,
     "metadata": {},
     "output_type": "execute_result"
    },
    {
     "data": {
      "image/png": "[encoded data removed]",
      "text/plain": [
       "<Figure size 432x288 with 1 Axes>"
      ]
     },
     "metadata": {
      "needs_background": "light"
     },
     "output_type": "display_data"
    }
   ],
   "source": [
    "#Naisten tyytyväisyys työtehtäviin iän mukaisesti.\n",
    "df[df['sukupuoli'] == 2].pivot_table(values = \"tyytyväisyys työtehtäviin\", index = \"ikä\").sort_values(\"tyytyväisyys työtehtäviin\").plot(kind='barh', color=[\"C4\"], edgecolor = \"black\")"
   ]
  }
 ],
 "metadata": {
  "kernelspec": {
   "display_name": "Python 3",
   "language": "python",
   "name": "python3"
  },
  "language_info": {
   "codemirror_mode": {
    "name": "ipython",
    "version": 3
   },
   "file_extension": ".py",
   "mimetype": "text/x-python",
   "name": "python",
   "nbconvert_exporter": "python",
   "pygments_lexer": "ipython3",
   "version": "3.7.1"
  }
 },
 "nbformat": 4,
 "nbformat_minor": 2
}
