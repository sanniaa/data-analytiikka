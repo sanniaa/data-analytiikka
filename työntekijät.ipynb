{
 "cells": [
  {
   "cell_type": "code",
   "execution_count": 1,
   "metadata": {},
   "outputs": [],
   "source": [
    "#Tarvittavien kirjastojen tuominen.\n",
    "import pandas as pd\n",
    "import matplotlib.pyplot as plt\n",
    "%matplotlib inline"
   ]
  },
  {
   "cell_type": "code",
   "execution_count": 2,
   "metadata": {},
   "outputs": [],
   "source": [
    "#Datan avaaminen nettisivulta.\n",
    "df = pd.read_csv('http://taanila.fi/data1.csv', delimiter = ';')\n"
   ]
  },
  {
   "cell_type": "code",
   "execution_count": 3,
   "metadata": {},
   "outputs": [],
   "source": [
    "#Muuttujien tekstimuotoisten arvojen tallentaminen.\n",
    "koulutus = [\"peruskoulu\", \"2. aste\", \"korkeakoulu\", \"ylempi korkeakoulu\"]\n",
    "tyytyväisyys = [\"tyytymätön\", \"jokseenkin tyytyväinen\", \"tyytyväinen\", \"todella tyytyväinen\"]\n",
    "sukupuoli = [\"mies\", \"nainen\"]"
   ]
  },
  {
   "cell_type": "code",
   "execution_count": 4,
   "metadata": {},
   "outputs": [],
   "source": [
    "#N-arvot seuraavaa taulukointia varten.\n",
    "dfn=df.groupby('sukupuoli')['koulutus'].count()"
   ]
  },
  {
   "cell_type": "code",
   "execution_count": 5,
   "metadata": {},
   "outputs": [
    {
     "data": {
      "text/html": [
       "<style  type=\"text/css\" >\n",
       "</style>  \n",
       "<table id=\"T_bdfca5a4_27d4_11e9_bf4e_d4619d12f1aa\" > \n",
       "<thead>    <tr> \n",
       "        <th class=\"blank level0\" ></th> \n",
       "        <th class=\"col_heading level0 col0\" >Mies (n=62)</th> \n",
       "        <th class=\"col_heading level0 col1\" >Nainen (n=19)</th> \n",
       "    </tr></thead> \n",
       "<tbody>    <tr> \n",
       "        <th id=\"T_bdfca5a4_27d4_11e9_bf4e_d4619d12f1aalevel0_row0\" class=\"row_heading level0 row0\" >peruskoulu</th> \n",
       "        <td id=\"T_bdfca5a4_27d4_11e9_bf4e_d4619d12f1aarow0_col0\" class=\"data row0 col0\" >35%</td> \n",
       "        <td id=\"T_bdfca5a4_27d4_11e9_bf4e_d4619d12f1aarow0_col1\" class=\"data row0 col1\" >26%</td> \n",
       "    </tr>    <tr> \n",
       "        <th id=\"T_bdfca5a4_27d4_11e9_bf4e_d4619d12f1aalevel0_row1\" class=\"row_heading level0 row1\" >2. aste</th> \n",
       "        <td id=\"T_bdfca5a4_27d4_11e9_bf4e_d4619d12f1aarow1_col0\" class=\"data row1 col0\" >37%</td> \n",
       "        <td id=\"T_bdfca5a4_27d4_11e9_bf4e_d4619d12f1aarow1_col1\" class=\"data row1 col1\" >37%</td> \n",
       "    </tr>    <tr> \n",
       "        <th id=\"T_bdfca5a4_27d4_11e9_bf4e_d4619d12f1aalevel0_row2\" class=\"row_heading level0 row2\" >korkeakoulu</th> \n",
       "        <td id=\"T_bdfca5a4_27d4_11e9_bf4e_d4619d12f1aarow2_col0\" class=\"data row2 col0\" >24%</td> \n",
       "        <td id=\"T_bdfca5a4_27d4_11e9_bf4e_d4619d12f1aarow2_col1\" class=\"data row2 col1\" >37%</td> \n",
       "    </tr>    <tr> \n",
       "        <th id=\"T_bdfca5a4_27d4_11e9_bf4e_d4619d12f1aalevel0_row3\" class=\"row_heading level0 row3\" >ylempi korkeakoulu</th> \n",
       "        <td id=\"T_bdfca5a4_27d4_11e9_bf4e_d4619d12f1aarow3_col0\" class=\"data row3 col0\" >3%</td> \n",
       "        <td id=\"T_bdfca5a4_27d4_11e9_bf4e_d4619d12f1aarow3_col1\" class=\"data row3 col1\" >0%</td> \n",
       "    </tr></tbody> \n",
       "</table> "
      ],
      "text/plain": [
       "<pandas.io.formats.style.Styler at 0x11dc11860>"
      ]
     },
     "execution_count": 5,
     "metadata": {},
     "output_type": "execute_result"
    }
   ],
   "source": [
    "#Ristiintaulukointi miesten ja naisten koulutuksista crosstabin avulla.\n",
    "df1 = pd.crosstab(df[\"koulutus\"],df[\"sukupuoli\"], normalize = \"columns\")\n",
    "df1.index = koulutus\n",
    "df1.columns.name = \"\"\n",
    "mies='Mies (n='+str(dfn[1])+')'\n",
    "nainen='Nainen (n='+str(dfn[2])+')'\n",
    "df1.columns = [mies, nainen]\n",
    "df1.style.format('{:.0%}')"
   ]
  },
  {
   "cell_type": "code",
   "execution_count": 35,
   "metadata": {},
   "outputs": [
    {
     "data": {
      "text/plain": [
       "[Text(0, 0, '0%'),\n",
       " Text(0, 0, '5%'),\n",
       " Text(0, 0, '10%'),\n",
       " Text(0, 0, '15%'),\n",
       " Text(0, 0, '20%'),\n",
       " Text(0, 0, '25%'),\n",
       " Text(0, 0, '30%'),\n",
       " Text(0, 0, '35%'),\n",
       " Text(0, 0, '40%')]"
      ]
     },
     "execution_count": 35,
     "metadata": {},
     "output_type": "execute_result"
    },
    {
     "data": {
      "image/png": "[encoded data removed]",
      "text/plain": [
       "<Figure size 432x288 with 1 Axes>"
      ]
     },
     "metadata": {
      "needs_background": "light"
     },
     "output_type": "display_data"
    }
   ],
   "source": [
    "#Pylväskaavio edellisestä. Lisäksi muokkasin pylväät selitteiden mukaisesti oikeaan järjestykseen.\n",
    "ax=df1.plot.barh(color=[\"black\", \"grey\"], edgecolor = \"white\")\n",
    "plt.xlabel(\"Prosenttia sukupuolesta\")\n",
    "handles, labels = ax.get_legend_handles_labels()\n",
    "ax.legend(reversed(handles), reversed(labels), loc='best')\n",
    "vals = ax.get_xticks()\n",
    "ax.set_xticklabels(['{:.0%}'.format(x) for x in vals])"
   ]
  },
  {
   "cell_type": "code",
   "execution_count": 29,
   "metadata": {},
   "outputs": [
    {
     "data": {
      "text/plain": [
       "Text(0.5, 0, 'Käyttäjien lukumäärä')"
      ]
     },
     "execution_count": 29,
     "metadata": {},
     "output_type": "execute_result"
    },
    {
     "data": {
      "image/png": "[encoded data removed]",
      "text/plain": [
       "<Figure size 432x288 with 1 Axes>"
      ]
     },
     "metadata": {
      "needs_background": "light"
     },
     "output_type": "display_data"
    }
   ],
   "source": [
    "#Monivalintojen lukumäärien laskeminen count-funktiolla sukupuolten mukaisesti.\n",
    "df2 = df.groupby (\"sukupuoli\")[\"työterveyshuolto\", \"lomaosake\", \"kuntosali\", \"hieroja\"].count()\n",
    "df2.index = sukupuoli\n",
    "df2.plot.barh(color=[\"silver\", \"lightgreen\", \"pink\", \"lightblue\"], edgecolor = \"white\")\n",
    "plt.xlabel(\"Käyttäjien lukumäärä\")"
   ]
  },
  {
   "cell_type": "code",
   "execution_count": 38,
   "metadata": {},
   "outputs": [
    {
     "data": {
      "text/plain": [
       "Text(0, 0.5, 'Lukumäärä')"
      ]
     },
     "execution_count": 38,
     "metadata": {},
     "output_type": "execute_result"
    },
    {
     "data": {
      "image/png": "[encoded data removed]",
      "text/plain": [
       "<Figure size 432x288 with 1 Axes>"
      ]
     },
     "metadata": {
      "needs_background": "light"
     },
     "output_type": "display_data"
    }
   ],
   "source": [
    "#Palkkojen luokiteltu jakauma bins -toiminnolla ja histogrammi kyseisestä luokitellusta jakaumasta.\n",
    "bins = [1000, 1500, 2500, 3500, 4500, 5500, 6500, 7500]\n",
    "df[\"palkkaluokka\"] = pd.cut(df[\"palkka\"], bins = 1000)\n",
    "df3 = pd.crosstab(df[\"palkkaluokka\"], \"n\")\n",
    "df3.columns.name = \"\"\n",
    "df3\n",
    "df[\"palkka\"].plot.hist(bins, color=\"grey\", edgecolor = \"white\")\n",
    "plt.xlabel(\"Palkan suuruus\")\n",
    "plt.ylabel(\"Lukumäärä\")"
   ]
  }
 ],
 "metadata": {
  "kernelspec": {
   "display_name": "Python 3",
   "language": "python",
   "name": "python3"
  },
  "language_info": {
   "codemirror_mode": {
    "name": "ipython",
    "version": 3
   },
   "file_extension": ".py",
   "mimetype": "text/x-python",
   "name": "python",
   "nbconvert_exporter": "python",
   "pygments_lexer": "ipython3",
   "version": "3.7.1"
  }
 },
 "nbformat": 4,
 "nbformat_minor": 2
}
